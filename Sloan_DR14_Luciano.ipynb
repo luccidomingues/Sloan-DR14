{
  "cells": [
    {
      "cell_type": "markdown",
      "metadata": {
        "id": "view-in-github",
        "colab_type": "text"
      },
      "source": [
        "<a href=\"https://colab.research.google.com/github/luccidomingues/Sloan-DR14/blob/main/Sloan_DR14_Luciano.ipynb\" target=\"_parent\"><img src=\"https://colab.research.google.com/assets/colab-badge.svg\" alt=\"Open In Colab\"/></a>"
      ]
    },
    {
      "cell_type": "markdown",
      "metadata": {
        "id": "BLICFVqlPC3E"
      },
      "source": [
        "# SDSS DR14"
      ]
    },
    {
      "cell_type": "markdown",
      "metadata": {
        "id": "qhNqjHybPC3v"
      },
      "source": [
        "Usaremos dados do Sloan Digital Sky Survey DR14 para classificar se o respectivo objeto é uma estrela, uma galáxia ou um quasar. Observações foram realizadas em Julho de 2016"
      ]
    },
    {
      "cell_type": "markdown",
      "metadata": {
        "id": "G-UEfXXtPC39"
      },
      "source": [
        "![image.png](attachment:image.png)"
      ]
    },
    {
      "cell_type": "markdown",
      "metadata": {
        "id": "N5KquaVlPC4E"
      },
      "source": [
        "* Importando bibliotecas padrões"
      ]
    },
    {
      "cell_type": "code",
      "execution_count": null,
      "metadata": {
        "id": "p5Wfsh69PC4K"
      },
      "outputs": [],
      "source": [
        "import numpy as np\n",
        "import pandas as pd\n",
        "import matplotlib.pyplot as plt\n",
        "import seaborn as sns"
      ]
    },
    {
      "cell_type": "markdown",
      "metadata": {
        "id": "5bZ-vEpkPC4U"
      },
      "source": [
        "* Lendo arquivo CSV"
      ]
    },
    {
      "cell_type": "code",
      "execution_count": null,
      "metadata": {
        "id": "Yc4LmZ2JPC4a"
      },
      "outputs": [],
      "source": [
        "dados = pd.read_csv('SLOAN_DR14.csv')"
      ]
    },
    {
      "cell_type": "markdown",
      "metadata": {
        "id": "qF5LlyoUPC40"
      },
      "source": [
        "* Exibindo cinco primeiras linhas"
      ]
    },
    {
      "cell_type": "code",
      "execution_count": null,
      "metadata": {
        "id": "POTw4HntPC44",
        "outputId": "eabd4660-3317-4aca-9154-231bc5de99a2"
      },
      "outputs": [
        {
          "data": {
            "text/html": [
              "<div>\n",
              "<style scoped>\n",
              "    .dataframe tbody tr th:only-of-type {\n",
              "        vertical-align: middle;\n",
              "    }\n",
              "\n",
              "    .dataframe tbody tr th {\n",
              "        vertical-align: top;\n",
              "    }\n",
              "\n",
              "    .dataframe thead th {\n",
              "        text-align: right;\n",
              "    }\n",
              "</style>\n",
              "<table border=\"1\" class=\"dataframe\">\n",
              "  <thead>\n",
              "    <tr style=\"text-align: right;\">\n",
              "      <th></th>\n",
              "      <th>objid</th>\n",
              "      <th>ra</th>\n",
              "      <th>dec</th>\n",
              "      <th>u</th>\n",
              "      <th>g</th>\n",
              "      <th>r</th>\n",
              "      <th>i</th>\n",
              "      <th>z</th>\n",
              "      <th>run</th>\n",
              "      <th>rerun</th>\n",
              "      <th>camcol</th>\n",
              "      <th>field</th>\n",
              "      <th>specobjid</th>\n",
              "      <th>class</th>\n",
              "      <th>redshift</th>\n",
              "      <th>plate</th>\n",
              "      <th>mjd</th>\n",
              "      <th>fiberid</th>\n",
              "    </tr>\n",
              "  </thead>\n",
              "  <tbody>\n",
              "    <tr>\n",
              "      <th>0</th>\n",
              "      <td>1.237650e+18</td>\n",
              "      <td>183.531326</td>\n",
              "      <td>0.089693</td>\n",
              "      <td>19.47406</td>\n",
              "      <td>17.04240</td>\n",
              "      <td>15.94699</td>\n",
              "      <td>15.50342</td>\n",
              "      <td>15.22531</td>\n",
              "      <td>752</td>\n",
              "      <td>301</td>\n",
              "      <td>4</td>\n",
              "      <td>267</td>\n",
              "      <td>3.722360e+18</td>\n",
              "      <td>STAR</td>\n",
              "      <td>-0.000009</td>\n",
              "      <td>3306</td>\n",
              "      <td>54922</td>\n",
              "      <td>491</td>\n",
              "    </tr>\n",
              "    <tr>\n",
              "      <th>1</th>\n",
              "      <td>1.237650e+18</td>\n",
              "      <td>183.598371</td>\n",
              "      <td>0.135285</td>\n",
              "      <td>18.66280</td>\n",
              "      <td>17.21449</td>\n",
              "      <td>16.67637</td>\n",
              "      <td>16.48922</td>\n",
              "      <td>16.39150</td>\n",
              "      <td>752</td>\n",
              "      <td>301</td>\n",
              "      <td>4</td>\n",
              "      <td>267</td>\n",
              "      <td>3.638140e+17</td>\n",
              "      <td>STAR</td>\n",
              "      <td>-0.000055</td>\n",
              "      <td>323</td>\n",
              "      <td>51615</td>\n",
              "      <td>541</td>\n",
              "    </tr>\n",
              "    <tr>\n",
              "      <th>2</th>\n",
              "      <td>1.237650e+18</td>\n",
              "      <td>183.680207</td>\n",
              "      <td>0.126185</td>\n",
              "      <td>19.38298</td>\n",
              "      <td>18.19169</td>\n",
              "      <td>17.47428</td>\n",
              "      <td>17.08732</td>\n",
              "      <td>16.80125</td>\n",
              "      <td>752</td>\n",
              "      <td>301</td>\n",
              "      <td>4</td>\n",
              "      <td>268</td>\n",
              "      <td>3.232740e+17</td>\n",
              "      <td>GALAXY</td>\n",
              "      <td>0.123111</td>\n",
              "      <td>287</td>\n",
              "      <td>52023</td>\n",
              "      <td>513</td>\n",
              "    </tr>\n",
              "    <tr>\n",
              "      <th>3</th>\n",
              "      <td>1.237650e+18</td>\n",
              "      <td>183.870529</td>\n",
              "      <td>0.049911</td>\n",
              "      <td>17.76536</td>\n",
              "      <td>16.60272</td>\n",
              "      <td>16.16116</td>\n",
              "      <td>15.98233</td>\n",
              "      <td>15.90438</td>\n",
              "      <td>752</td>\n",
              "      <td>301</td>\n",
              "      <td>4</td>\n",
              "      <td>269</td>\n",
              "      <td>3.722370e+18</td>\n",
              "      <td>STAR</td>\n",
              "      <td>-0.000111</td>\n",
              "      <td>3306</td>\n",
              "      <td>54922</td>\n",
              "      <td>510</td>\n",
              "    </tr>\n",
              "    <tr>\n",
              "      <th>4</th>\n",
              "      <td>1.237650e+18</td>\n",
              "      <td>183.883288</td>\n",
              "      <td>0.102557</td>\n",
              "      <td>17.55025</td>\n",
              "      <td>16.26342</td>\n",
              "      <td>16.43869</td>\n",
              "      <td>16.55492</td>\n",
              "      <td>16.61326</td>\n",
              "      <td>752</td>\n",
              "      <td>301</td>\n",
              "      <td>4</td>\n",
              "      <td>269</td>\n",
              "      <td>3.722370e+18</td>\n",
              "      <td>STAR</td>\n",
              "      <td>0.000590</td>\n",
              "      <td>3306</td>\n",
              "      <td>54922</td>\n",
              "      <td>512</td>\n",
              "    </tr>\n",
              "  </tbody>\n",
              "</table>\n",
              "</div>"
            ],
            "text/plain": [
              "          objid          ra       dec         u         g         r         i  \\\n",
              "0  1.237650e+18  183.531326  0.089693  19.47406  17.04240  15.94699  15.50342   \n",
              "1  1.237650e+18  183.598371  0.135285  18.66280  17.21449  16.67637  16.48922   \n",
              "2  1.237650e+18  183.680207  0.126185  19.38298  18.19169  17.47428  17.08732   \n",
              "3  1.237650e+18  183.870529  0.049911  17.76536  16.60272  16.16116  15.98233   \n",
              "4  1.237650e+18  183.883288  0.102557  17.55025  16.26342  16.43869  16.55492   \n",
              "\n",
              "          z  run  rerun  camcol  field     specobjid   class  redshift  plate  \\\n",
              "0  15.22531  752    301       4    267  3.722360e+18    STAR -0.000009   3306   \n",
              "1  16.39150  752    301       4    267  3.638140e+17    STAR -0.000055    323   \n",
              "2  16.80125  752    301       4    268  3.232740e+17  GALAXY  0.123111    287   \n",
              "3  15.90438  752    301       4    269  3.722370e+18    STAR -0.000111   3306   \n",
              "4  16.61326  752    301       4    269  3.722370e+18    STAR  0.000590   3306   \n",
              "\n",
              "     mjd  fiberid  \n",
              "0  54922      491  \n",
              "1  51615      541  \n",
              "2  52023      513  \n",
              "3  54922      510  \n",
              "4  54922      512  "
            ]
          },
          "execution_count": 3,
          "metadata": {},
          "output_type": "execute_result"
        }
      ],
      "source": [
        "dados.head()"
      ]
    },
    {
      "cell_type": "markdown",
      "metadata": {
        "id": "8RZnM2rpPC5C"
      },
      "source": [
        "* Verificando posição dos objetos"
      ]
    },
    {
      "cell_type": "code",
      "execution_count": null,
      "metadata": {
        "id": "3botwP90PC5H",
        "outputId": "b935909b-98e0-476b-912c-8cc8dd881c1a"
      },
      "outputs": [
        {
          "name": "stderr",
          "output_type": "stream",
          "text": [
            "/Users/danilo/opt/anaconda3/lib/python3.8/site-packages/seaborn/regression.py:580: UserWarning: The `size` parameter has been renamed to `height`; please update your code.\n",
            "  warnings.warn(msg, UserWarning)\n"
          ]
        },
        {
          "data": {
            "text/plain": [
              "Text(9.491688368055556, 0.5, 'Declinação (graus)')"
            ]
          },
          "execution_count": 4,
          "metadata": {},
          "output_type": "execute_result"
        },
        {
          "data": {
            "image/png": "[encoded data removed]",
            "text/plain": [
              "<Figure size 940.125x432 with 1 Axes>"
            ]
          },
          "metadata": {
            "needs_background": "light"
          },
          "output_type": "display_data"
        }
      ],
      "source": [
        "sns.lmplot(x='ra', y='dec', data=dados, hue='class', fit_reg=False, palette='coolwarm', size=6, aspect=2)\n",
        "plt.title('Coordenadas equatoriais (RA-DEC)')\n",
        "plt.xlabel('Ascenção reta (graus)')\n",
        "plt.ylabel('Declinação (graus)')"
      ]
    },
    {
      "cell_type": "markdown",
      "metadata": {
        "id": "rqrGTzRkPC5K"
      },
      "source": [
        "* Colunas objid, rad, dec run, rerun, camcol, field, specobjid, plate, mjd e fiberid podem ser removidas. São apenas informações das observações"
      ]
    },
    {
      "cell_type": "code",
      "execution_count": null,
      "metadata": {
        "id": "HBNroK2LPC5N"
      },
      "outputs": [],
      "source": [
        "colunas_remover = ['objid','ra','dec','run','rerun','field','fiberid','mjd','plate','specobjid','camcol']"
      ]
    },
    {
      "cell_type": "code",
      "execution_count": null,
      "metadata": {
        "id": "uKXBB5OJPC5R"
      },
      "outputs": [],
      "source": [
        "dados = dados.drop(colunas_remover,axis=1)"
      ]
    },
    {
      "cell_type": "code",
      "execution_count": null,
      "metadata": {
        "id": "9XWTcbeNPC5g",
        "outputId": "a2c33fce-6a14-4ffd-f792-fa5d2e097a10"
      },
      "outputs": [
        {
          "data": {
            "text/html": [
              "<div>\n",
              "<style scoped>\n",
              "    .dataframe tbody tr th:only-of-type {\n",
              "        vertical-align: middle;\n",
              "    }\n",
              "\n",
              "    .dataframe tbody tr th {\n",
              "        vertical-align: top;\n",
              "    }\n",
              "\n",
              "    .dataframe thead th {\n",
              "        text-align: right;\n",
              "    }\n",
              "</style>\n",
              "<table border=\"1\" class=\"dataframe\">\n",
              "  <thead>\n",
              "    <tr style=\"text-align: right;\">\n",
              "      <th></th>\n",
              "      <th>u</th>\n",
              "      <th>g</th>\n",
              "      <th>r</th>\n",
              "      <th>i</th>\n",
              "      <th>z</th>\n",
              "      <th>class</th>\n",
              "      <th>redshift</th>\n",
              "    </tr>\n",
              "  </thead>\n",
              "  <tbody>\n",
              "    <tr>\n",
              "      <th>0</th>\n",
              "      <td>19.47406</td>\n",
              "      <td>17.04240</td>\n",
              "      <td>15.94699</td>\n",
              "      <td>15.50342</td>\n",
              "      <td>15.22531</td>\n",
              "      <td>STAR</td>\n",
              "      <td>-0.000009</td>\n",
              "    </tr>\n",
              "    <tr>\n",
              "      <th>1</th>\n",
              "      <td>18.66280</td>\n",
              "      <td>17.21449</td>\n",
              "      <td>16.67637</td>\n",
              "      <td>16.48922</td>\n",
              "      <td>16.39150</td>\n",
              "      <td>STAR</td>\n",
              "      <td>-0.000055</td>\n",
              "    </tr>\n",
              "    <tr>\n",
              "      <th>2</th>\n",
              "      <td>19.38298</td>\n",
              "      <td>18.19169</td>\n",
              "      <td>17.47428</td>\n",
              "      <td>17.08732</td>\n",
              "      <td>16.80125</td>\n",
              "      <td>GALAXY</td>\n",
              "      <td>0.123111</td>\n",
              "    </tr>\n",
              "    <tr>\n",
              "      <th>3</th>\n",
              "      <td>17.76536</td>\n",
              "      <td>16.60272</td>\n",
              "      <td>16.16116</td>\n",
              "      <td>15.98233</td>\n",
              "      <td>15.90438</td>\n",
              "      <td>STAR</td>\n",
              "      <td>-0.000111</td>\n",
              "    </tr>\n",
              "    <tr>\n",
              "      <th>4</th>\n",
              "      <td>17.55025</td>\n",
              "      <td>16.26342</td>\n",
              "      <td>16.43869</td>\n",
              "      <td>16.55492</td>\n",
              "      <td>16.61326</td>\n",
              "      <td>STAR</td>\n",
              "      <td>0.000590</td>\n",
              "    </tr>\n",
              "  </tbody>\n",
              "</table>\n",
              "</div>"
            ],
            "text/plain": [
              "          u         g         r         i         z   class  redshift\n",
              "0  19.47406  17.04240  15.94699  15.50342  15.22531    STAR -0.000009\n",
              "1  18.66280  17.21449  16.67637  16.48922  16.39150    STAR -0.000055\n",
              "2  19.38298  18.19169  17.47428  17.08732  16.80125  GALAXY  0.123111\n",
              "3  17.76536  16.60272  16.16116  15.98233  15.90438    STAR -0.000111\n",
              "4  17.55025  16.26342  16.43869  16.55492  16.61326    STAR  0.000590"
            ]
          },
          "execution_count": 7,
          "metadata": {},
          "output_type": "execute_result"
        }
      ],
      "source": [
        "dados.head()"
      ]
    },
    {
      "cell_type": "markdown",
      "metadata": {
        "id": "j4cv32FEPC5j"
      },
      "source": [
        "* Verificando contagem de objetos por classe"
      ]
    },
    {
      "cell_type": "code",
      "execution_count": null,
      "metadata": {
        "id": "ePFM5HCKPC5l",
        "outputId": "6ecd5a20-80ef-425a-ccee-88c456fd04ba"
      },
      "outputs": [
        {
          "name": "stderr",
          "output_type": "stream",
          "text": [
            "/Users/danilo/opt/anaconda3/lib/python3.8/site-packages/seaborn/_decorators.py:36: FutureWarning: Pass the following variable as a keyword arg: x. From version 0.12, the only valid positional argument will be `data`, and passing other arguments without an explicit keyword will result in an error or misinterpretation.\n",
            "  warnings.warn(\n"
          ]
        },
        {
          "data": {
            "text/plain": [
              "<AxesSubplot:xlabel='class', ylabel='count'>"
            ]
          },
          "execution_count": 8,
          "metadata": {},
          "output_type": "execute_result"
        },
        {
          "data": {
            "image/png": "[encoded data removed]",
            "text/plain": [
              "<Figure size 432x288 with 1 Axes>"
            ]
          },
          "metadata": {
            "needs_background": "light"
          },
          "output_type": "display_data"
        }
      ],
      "source": [
        "sns.countplot(dados['class'])"
      ]
    },
    {
      "cell_type": "markdown",
      "metadata": {
        "id": "OpCiTgITPC5p"
      },
      "source": [
        "* Separando cada classe de objeto num dataset"
      ]
    },
    {
      "cell_type": "code",
      "execution_count": null,
      "metadata": {
        "id": "ErJ5EmDsPC5r"
      },
      "outputs": [],
      "source": [
        "estrela = dados[dados['class']=='STAR']\n",
        "galaxia = dados[dados['class']=='GALAXY']\n",
        "qso = dados[dados['class']=='QSO']"
      ]
    },
    {
      "cell_type": "markdown",
      "metadata": {
        "id": "fI4fkQ-QPC5u"
      },
      "source": [
        "* Filtros"
      ]
    },
    {
      "cell_type": "markdown",
      "metadata": {
        "id": "nR3Ws2duPC5y"
      },
      "source": [
        "![image.png](attachment:image.png)"
      ]
    },
    {
      "cell_type": "markdown",
      "metadata": {
        "id": "S2d45BehPC50"
      },
      "source": [
        "* Verificando a distribuição da magnitude na banda u (Ultravioleta)"
      ]
    },
    {
      "cell_type": "code",
      "execution_count": null,
      "metadata": {
        "id": "BPsuhvlgPC51",
        "outputId": "c5b09583-4605-40e4-93d3-45806dd519a0"
      },
      "outputs": [
        {
          "data": {
            "image/png": "[encoded data removed]",
            "text/plain": [
              "<Figure size 720x288 with 3 Axes>"
            ]
          },
          "metadata": {
            "needs_background": "light"
          },
          "output_type": "display_data"
        }
      ],
      "source": [
        "fig, (ax1, ax2, ax3) = plt.subplots(1, 3,figsize=(10,4))\n",
        "ax1.hist(estrela['u'])\n",
        "ax1.set_title('Estrela')\n",
        "ax1.set_xlabel('u')\n",
        "ax2.hist(galaxia['u'])\n",
        "ax2.set_title('Galaxia')\n",
        "ax2.set_xlabel('u')\n",
        "ax3.hist(qso['u'])\n",
        "ax3.set_title('QSO')\n",
        "ax3.set_xlabel('u')\n",
        "plt.tight_layout()"
      ]
    },
    {
      "cell_type": "markdown",
      "metadata": {
        "id": "lqFJ_S_6PC57"
      },
      "source": [
        "* Verificando a distribuição da magnitude na banda g (Green - Verde)"
      ]
    },
    {
      "cell_type": "code",
      "execution_count": null,
      "metadata": {
        "id": "cw-Iamt4PC58",
        "outputId": "6ce59f2b-d7c4-4193-be77-9e0f29b2262f"
      },
      "outputs": [
        {
          "data": {
            "image/png": "[encoded data removed]",
            "text/plain": [
              "<Figure size 720x288 with 3 Axes>"
            ]
          },
          "metadata": {
            "needs_background": "light"
          },
          "output_type": "display_data"
        }
      ],
      "source": [
        "fig, (ax1, ax2, ax3) = plt.subplots(1, 3,figsize=(10,4))\n",
        "ax1.hist(estrela['g'])\n",
        "ax1.set_title('Estrela')\n",
        "ax1.set_xlabel('g')\n",
        "ax2.hist(galaxia['g'])\n",
        "ax2.set_title('Galaxia')\n",
        "ax2.set_xlabel('g')\n",
        "ax3.hist(qso['g'])\n",
        "ax3.set_title('QSO')\n",
        "ax3.set_xlabel('g')\n",
        "plt.tight_layout()"
      ]
    },
    {
      "cell_type": "markdown",
      "metadata": {
        "id": "CbQ6rTdaPC5-"
      },
      "source": [
        "* Verificando a distribuição da magnitude na banda r - Red (Vermelho)"
      ]
    },
    {
      "cell_type": "code",
      "execution_count": null,
      "metadata": {
        "id": "DXgBl0nGPC5_",
        "outputId": "20ae9a01-5360-419e-ddc2-f3068382486a"
      },
      "outputs": [
        {
          "data": {
            "image/png": "[encoded data removed]",
            "text/plain": [
              "<Figure size 720x288 with 3 Axes>"
            ]
          },
          "metadata": {
            "needs_background": "light"
          },
          "output_type": "display_data"
        }
      ],
      "source": [
        "fig, (ax1, ax2, ax3) = plt.subplots(1, 3,figsize=(10,4))\n",
        "ax1.hist(estrela['r'])\n",
        "ax1.set_title('Estrela')\n",
        "ax1.set_xlabel('r')\n",
        "ax2.hist(galaxia['r'])\n",
        "ax2.set_title('Galaxia')\n",
        "ax2.set_xlabel('r')\n",
        "ax3.hist(qso['r'])\n",
        "ax3.set_title('QSO')\n",
        "ax3.set_xlabel('r')\n",
        "plt.tight_layout()"
      ]
    },
    {
      "cell_type": "markdown",
      "metadata": {
        "id": "HlBqhSdRPC6O"
      },
      "source": [
        "* Verificando a distribuição da magnitude na banda i (Infrared - Infravermelho)"
      ]
    },
    {
      "cell_type": "code",
      "execution_count": null,
      "metadata": {
        "id": "ncZkbpT9PC6Q",
        "outputId": "42020e68-bac6-499a-8393-0107d3be455a"
      },
      "outputs": [
        {
          "data": {
            "image/png": "[encoded data removed]",
            "text/plain": [
              "<Figure size 720x288 with 3 Axes>"
            ]
          },
          "metadata": {
            "needs_background": "light"
          },
          "output_type": "display_data"
        }
      ],
      "source": [
        "fig, (ax1, ax2, ax3) = plt.subplots(1, 3,figsize=(10,4))\n",
        "ax1.hist(estrela['i'])\n",
        "ax1.set_title('Estrela')\n",
        "ax1.set_xlabel('i')\n",
        "ax2.hist(galaxia['i'])\n",
        "ax2.set_title('Galaxia')\n",
        "ax2.set_xlabel('i')\n",
        "ax3.hist(qso['i'])\n",
        "ax3.set_title('QSO')\n",
        "ax3.set_xlabel('i')\n",
        "plt.tight_layout()"
      ]
    },
    {
      "cell_type": "markdown",
      "metadata": {
        "id": "apUSsNkLPC6S"
      },
      "source": [
        "* Verificando a distribuição da magnitude na banda z - Infrared (Infravermelho)"
      ]
    },
    {
      "cell_type": "code",
      "execution_count": null,
      "metadata": {
        "id": "4dVhX1SDPC6V",
        "outputId": "63198e65-58bf-48a8-ff35-1b65054870f6"
      },
      "outputs": [
        {
          "data": {
            "image/png": "[encoded data removed]",
            "text/plain": [
              "<Figure size 720x288 with 3 Axes>"
            ]
          },
          "metadata": {
            "needs_background": "light"
          },
          "output_type": "display_data"
        }
      ],
      "source": [
        "fig, (ax1, ax2, ax3) = plt.subplots(1, 3,figsize=(10,4))\n",
        "ax1.hist(estrela['z'])\n",
        "ax1.set_title('Estrela')\n",
        "ax1.set_xlabel('z')\n",
        "ax2.hist(galaxia['z'])\n",
        "ax2.set_title('Galaxia')\n",
        "ax2.set_xlabel('z')\n",
        "ax3.hist(qso['z'])\n",
        "ax3.set_title('QSO')\n",
        "ax3.set_xlabel('z')\n",
        "plt.tight_layout()"
      ]
    },
    {
      "cell_type": "markdown",
      "metadata": {
        "id": "rNCwzk_rPC6X"
      },
      "source": [
        "* Verifando distribuições dos redshifts (distâncias)"
      ]
    },
    {
      "cell_type": "code",
      "execution_count": null,
      "metadata": {
        "id": "sEgTnG32PC6Z",
        "outputId": "a80fcb86-3882-4925-cb31-58ebb5046050"
      },
      "outputs": [
        {
          "data": {
            "image/png": "[encoded data removed]",
            "text/plain": [
              "<Figure size 720x288 with 3 Axes>"
            ]
          },
          "metadata": {
            "needs_background": "light"
          },
          "output_type": "display_data"
        }
      ],
      "source": [
        "fig, (ax1, ax2, ax3) = plt.subplots(1, 3,figsize=(10,4))\n",
        "ax1.hist(estrela['redshift'])\n",
        "ax1.set_title('Estrela')\n",
        "ax1.set_xlabel('redshift')\n",
        "ax2.hist(galaxia['redshift'])\n",
        "ax2.set_title('Galaxia')\n",
        "ax2.set_xlabel('redshift')\n",
        "ax3.hist(qso['redshift'])\n",
        "ax3.set_title('QSO')\n",
        "ax3.set_xlabel('redshift')\n",
        "plt.tight_layout()"
      ]
    },
    {
      "cell_type": "markdown",
      "metadata": {
        "id": "p9nHGar0PC6d"
      },
      "source": [
        "* Convertendo variável categórica classe para numérica"
      ]
    },
    {
      "cell_type": "code",
      "execution_count": null,
      "metadata": {
        "id": "TioKTFDhPC6e"
      },
      "outputs": [],
      "source": [
        "from sklearn.preprocessing import LabelEncoder"
      ]
    },
    {
      "cell_type": "code",
      "execution_count": null,
      "metadata": {
        "id": "xKC8fir6PC6g"
      },
      "outputs": [],
      "source": [
        "le = LabelEncoder()\n",
        "dados['class'] = le.fit_transform(dados['class'])"
      ]
    },
    {
      "cell_type": "code",
      "execution_count": null,
      "metadata": {
        "id": "CyEeWDXKPC6k"
      },
      "outputs": [],
      "source": [
        "labels = le.classes_"
      ]
    },
    {
      "cell_type": "code",
      "execution_count": null,
      "metadata": {
        "id": "LNWbH5kyPC6m",
        "outputId": "91148c78-d9b4-4781-9ea6-4b614e798746"
      },
      "outputs": [
        {
          "data": {
            "text/plain": [
              "array(['GALAXY', 'QSO', 'STAR'], dtype=object)"
            ]
          },
          "execution_count": 19,
          "metadata": {},
          "output_type": "execute_result"
        }
      ],
      "source": [
        "labels"
      ]
    },
    {
      "cell_type": "markdown",
      "metadata": {
        "id": "ZqOBvXGFPC6o"
      },
      "source": [
        "* Verificanco correlação"
      ]
    },
    {
      "cell_type": "code",
      "execution_count": null,
      "metadata": {
        "id": "XJ04KQe0PC6p"
      },
      "outputs": [],
      "source": [
        "corr = dados.corr()"
      ]
    },
    {
      "cell_type": "code",
      "execution_count": null,
      "metadata": {
        "id": "tu1o-7KCPC6r",
        "outputId": "a3a0b1f1-db94-42de-cf6b-38aaeb842cd4"
      },
      "outputs": [
        {
          "data": {
            "text/plain": [
              "<AxesSubplot:>"
            ]
          },
          "execution_count": 21,
          "metadata": {},
          "output_type": "execute_result"
        },
        {
          "data": {
            "image/png": "[encoded data removed]",
            "text/plain": [
              "<Figure size 432x288 with 2 Axes>"
            ]
          },
          "metadata": {
            "needs_background": "light"
          },
          "output_type": "display_data"
        }
      ],
      "source": [
        "sns.heatmap(corr)"
      ]
    },
    {
      "cell_type": "markdown",
      "metadata": {
        "id": "XhounDK6PC7E"
      },
      "source": [
        "* Determinando variáveis X e Y"
      ]
    },
    {
      "cell_type": "code",
      "execution_count": null,
      "metadata": {
        "id": "KlNOFWncPC7F"
      },
      "outputs": [],
      "source": [
        "X = dados.drop('class',axis=1).values\n",
        "Y = dados['class'].values"
      ]
    },
    {
      "cell_type": "markdown",
      "metadata": {
        "id": "RwUVr7AoPC7H"
      },
      "source": [
        "* Criando amostras de treino e teste"
      ]
    },
    {
      "cell_type": "code",
      "execution_count": null,
      "metadata": {
        "id": "2-ThlEFmPC7I"
      },
      "outputs": [],
      "source": [
        "from sklearn.model_selection import train_test_split"
      ]
    },
    {
      "cell_type": "code",
      "execution_count": null,
      "metadata": {
        "id": "prf8YS0tPC7J"
      },
      "outputs": [],
      "source": [
        "X_treino, X_teste, Y_treino, Y_teste = train_test_split(X,Y,test_size=0.3,random_state=42)"
      ]
    },
    {
      "cell_type": "markdown",
      "metadata": {
        "id": "9Kw6tFB0PC7K"
      },
      "source": [
        "* Bibliotecas de métricas de classificação"
      ]
    },
    {
      "cell_type": "code",
      "execution_count": null,
      "metadata": {
        "id": "jGq9HRK5PC7M"
      },
      "outputs": [],
      "source": [
        "from sklearn.metrics import accuracy_score, precision_score, recall_score, f1_score"
      ]
    },
    {
      "cell_type": "code",
      "execution_count": null,
      "metadata": {
        "id": "yyi3k1blPC7N"
      },
      "outputs": [],
      "source": [
        "from sklearn.metrics import confusion_matrix"
      ]
    },
    {
      "cell_type": "markdown",
      "metadata": {
        "id": "1zmdvlQuPC7O"
      },
      "source": [
        "* Listas para armazenar resultados dos modelos"
      ]
    },
    {
      "cell_type": "code",
      "execution_count": null,
      "metadata": {
        "id": "oTX7i47KPC7P"
      },
      "outputs": [],
      "source": [
        "modelos = []\n",
        "acuracia = []\n",
        "precision = []\n",
        "recall = []\n",
        "f1 = []"
      ]
    },
    {
      "cell_type": "markdown",
      "metadata": {
        "id": "fGpJWS5gPC7R"
      },
      "source": [
        "* Modelo 1: Regressão logística"
      ]
    },
    {
      "cell_type": "code",
      "execution_count": null,
      "metadata": {
        "id": "ibhKd6MSPC7S"
      },
      "outputs": [],
      "source": [
        "from sklearn.linear_model import LogisticRegression"
      ]
    },
    {
      "cell_type": "code",
      "execution_count": null,
      "metadata": {
        "id": "z17-zL9jPC7U"
      },
      "outputs": [],
      "source": [
        "logreg = LogisticRegression()"
      ]
    },
    {
      "cell_type": "code",
      "execution_count": null,
      "metadata": {
        "id": "bHo7hhvWPC7Y",
        "outputId": "d3c76f42-73df-488c-aba5-a8427b2a0306"
      },
      "outputs": [
        {
          "name": "stderr",
          "output_type": "stream",
          "text": [
            "/Users/danilo/opt/anaconda3/lib/python3.8/site-packages/sklearn/linear_model/_logistic.py:762: ConvergenceWarning: lbfgs failed to converge (status=1):\n",
            "STOP: TOTAL NO. of ITERATIONS REACHED LIMIT.\n",
            "\n",
            "Increase the number of iterations (max_iter) or scale the data as shown in:\n",
            "    https://scikit-learn.org/stable/modules/preprocessing.html\n",
            "Please also refer to the documentation for alternative solver options:\n",
            "    https://scikit-learn.org/stable/modules/linear_model.html#logistic-regression\n",
            "  n_iter_i = _check_optimize_result(\n"
          ]
        },
        {
          "data": {
            "text/plain": [
              "LogisticRegression()"
            ]
          },
          "execution_count": 32,
          "metadata": {},
          "output_type": "execute_result"
        }
      ],
      "source": [
        "logreg.fit(X_treino,Y_treino)"
      ]
    },
    {
      "cell_type": "code",
      "execution_count": null,
      "metadata": {
        "id": "4pIu0PERPC7Z"
      },
      "outputs": [],
      "source": [
        "Y_pred_logreg = logreg.predict(X_teste)"
      ]
    },
    {
      "cell_type": "code",
      "execution_count": null,
      "metadata": {
        "id": "9vg388JjPC7b"
      },
      "outputs": [],
      "source": [
        "cm_logreg = confusion_matrix(Y_teste,Y_pred_logreg)"
      ]
    },
    {
      "cell_type": "code",
      "execution_count": null,
      "metadata": {
        "id": "0yf4-MaRPC7c",
        "outputId": "485d854b-89af-43f5-9cbe-ba892950aae9"
      },
      "outputs": [
        {
          "data": {
            "text/plain": [
              "<AxesSubplot:>"
            ]
          },
          "execution_count": 35,
          "metadata": {},
          "output_type": "execute_result"
        },
        {
          "data": {
            "image/png": "[encoded data removed]",
            "text/plain": [
              "<Figure size 432x288 with 2 Axes>"
            ]
          },
          "metadata": {
            "needs_background": "light"
          },
          "output_type": "display_data"
        }
      ],
      "source": [
        "sns.heatmap(cm_logreg, annot=True, fmt='g', xticklabels=labels, yticklabels=labels)"
      ]
    },
    {
      "cell_type": "code",
      "execution_count": null,
      "metadata": {
        "id": "wEd-3rorPC7e"
      },
      "outputs": [],
      "source": [
        "acc_logreg = accuracy_score(Y_teste,Y_pred_logreg)\n",
        "precision_logreg = precision_score(Y_teste,Y_pred_logreg,average='macro')\n",
        "recall_logreg = recall_score(Y_teste,Y_pred_logreg,average='macro')\n",
        "f1_logreg = f1_score(Y_teste,Y_pred_logreg,average='macro')"
      ]
    },
    {
      "cell_type": "code",
      "execution_count": null,
      "metadata": {
        "id": "yBXTvAmMPC7f",
        "outputId": "0349fd1d-6eee-4fd6-edb2-2f5cd4f303d8"
      },
      "outputs": [
        {
          "name": "stdout",
          "output_type": "stream",
          "text": [
            "Acuracia = 95.93%\n",
            "Precisão = 96.35%\n",
            "Recall = 95.74%\n",
            "F1 = 96.01%\n"
          ]
        }
      ],
      "source": [
        "print(\"Acuracia = {:0.2f}%\".format(acc_logreg*100))\n",
        "print(\"Precisão = {:0.2f}%\".format(precision_logreg*100))\n",
        "print(\"Recall = {:0.2f}%\".format(recall_logreg*100))\n",
        "print(\"F1 = {:0.2f}%\".format(f1_logreg*100))"
      ]
    },
    {
      "cell_type": "code",
      "execution_count": null,
      "metadata": {
        "id": "ixDgdegrPC71"
      },
      "outputs": [],
      "source": [
        "modelos.append(\"Regressão Logistica\")\n",
        "acuracia.append(acc_logreg*100)\n",
        "precision.append(precision_logreg*100)\n",
        "recall.append(recall_logreg*100)\n",
        "f1.append(f1_logreg*100)"
      ]
    },
    {
      "cell_type": "code",
      "execution_count": null,
      "metadata": {
        "id": "2upDjhU6PC74",
        "outputId": "03414a87-5233-46b2-d4b1-d6bb45f5436c"
      },
      "outputs": [
        {
          "data": {
            "text/plain": [
              "Text(0, 0.5, 'Importância')"
            ]
          },
          "execution_count": 39,
          "metadata": {},
          "output_type": "execute_result"
        },
        {
          "data": {
            "image/png": "[encoded data removed]",
            "text/plain": [
              "<Figure size 432x288 with 1 Axes>"
            ]
          },
          "metadata": {
            "needs_background": "light"
          },
          "output_type": "display_data"
        }
      ],
      "source": [
        "coefc_logreg = logreg.coef_[0]\n",
        "colunas = ['u','g','r','i','z','redshift']\n",
        "plt.bar(height=coefc_logreg,x=colunas)\n",
        "plt.xlabel('Variável')\n",
        "plt.ylabel('Importância')"
      ]
    },
    {
      "cell_type": "markdown",
      "metadata": {
        "id": "MQFlowHSPC75"
      },
      "source": [
        "* Modelo 2: KNN"
      ]
    },
    {
      "cell_type": "code",
      "execution_count": null,
      "metadata": {
        "id": "jnUhCz2zPC76"
      },
      "outputs": [],
      "source": [
        "from sklearn.neighbors import KNeighborsClassifier"
      ]
    },
    {
      "cell_type": "code",
      "execution_count": null,
      "metadata": {
        "id": "3llZP9y4PC79"
      },
      "outputs": [],
      "source": [
        "knn = KNeighborsClassifier()"
      ]
    },
    {
      "cell_type": "code",
      "execution_count": null,
      "metadata": {
        "id": "RFKmUE3tPC7_",
        "outputId": "f280c688-cc3e-4d5f-fd8f-833d0045da94"
      },
      "outputs": [
        {
          "data": {
            "text/plain": [
              "KNeighborsClassifier()"
            ]
          },
          "execution_count": 42,
          "metadata": {},
          "output_type": "execute_result"
        }
      ],
      "source": [
        "knn.fit(X_treino,Y_treino)"
      ]
    },
    {
      "cell_type": "code",
      "execution_count": null,
      "metadata": {
        "id": "wManBNnwPC8A"
      },
      "outputs": [],
      "source": [
        "Y_pred_knn = knn.predict(X_teste)"
      ]
    },
    {
      "cell_type": "code",
      "execution_count": null,
      "metadata": {
        "id": "CFylaCcMPC8B"
      },
      "outputs": [],
      "source": [
        "cm_knn = confusion_matrix(Y_teste,Y_pred_knn)"
      ]
    },
    {
      "cell_type": "code",
      "execution_count": null,
      "metadata": {
        "id": "58e4H9tnPC8E",
        "outputId": "3f46e307-7b60-41ce-f466-8dc9a6554340"
      },
      "outputs": [
        {
          "data": {
            "text/plain": [
              "<AxesSubplot:>"
            ]
          },
          "execution_count": 45,
          "metadata": {},
          "output_type": "execute_result"
        },
        {
          "data": {
            "image/png": "[encoded data removed]",
            "text/plain": [
              "<Figure size 432x288 with 2 Axes>"
            ]
          },
          "metadata": {
            "needs_background": "light"
          },
          "output_type": "display_data"
        }
      ],
      "source": [
        "sns.heatmap(cm_knn, annot=True, fmt='g', xticklabels=labels, yticklabels=labels)"
      ]
    },
    {
      "cell_type": "code",
      "execution_count": null,
      "metadata": {
        "id": "xFVLYJgOPC8G"
      },
      "outputs": [],
      "source": [
        "acc_knn = accuracy_score(Y_teste,Y_pred_knn)\n",
        "precision_knn = precision_score(Y_teste,Y_pred_knn,average='macro')\n",
        "recall_knn = recall_score(Y_teste,Y_pred_knn,average='macro')\n",
        "f1_knn = f1_score(Y_teste,Y_pred_knn,average='macro')"
      ]
    },
    {
      "cell_type": "code",
      "execution_count": null,
      "metadata": {
        "id": "5WwAZWxmPC8H",
        "outputId": "528509ac-c83e-492e-8016-32470744bec1"
      },
      "outputs": [
        {
          "name": "stdout",
          "output_type": "stream",
          "text": [
            "Acuracia = 94.93%\n",
            "Precisão = 95.71%\n",
            "Recall = 95.04%\n",
            "F1 = 95.32%\n"
          ]
        }
      ],
      "source": [
        "print(\"Acuracia = {:0.2f}%\".format(acc_knn*100))\n",
        "print(\"Precisão = {:0.2f}%\".format(precision_knn*100))\n",
        "print(\"Recall = {:0.2f}%\".format(recall_knn*100))\n",
        "print(\"F1 = {:0.2f}%\".format(f1_knn*100))"
      ]
    },
    {
      "cell_type": "code",
      "execution_count": null,
      "metadata": {
        "id": "xZeoZqa5PC8K"
      },
      "outputs": [],
      "source": [
        "modelos.append(\"KNN\")\n",
        "acuracia.append(acc_knn*100)\n",
        "precision.append(precision_knn*100)\n",
        "recall.append(recall_knn*100)\n",
        "f1.append(f1_knn*100)"
      ]
    },
    {
      "cell_type": "markdown",
      "metadata": {
        "id": "oSweBZOFPC8M"
      },
      "source": [
        "* Modelo 3: Máquina de vetores de suporte"
      ]
    },
    {
      "cell_type": "code",
      "execution_count": null,
      "metadata": {
        "id": "ckyOE8kdPC8N"
      },
      "outputs": [],
      "source": [
        "from sklearn.svm import SVC"
      ]
    },
    {
      "cell_type": "code",
      "execution_count": null,
      "metadata": {
        "id": "VxBsuAMuPC8P"
      },
      "outputs": [],
      "source": [
        "svc = SVC()"
      ]
    },
    {
      "cell_type": "code",
      "execution_count": null,
      "metadata": {
        "id": "WkUHM7LbPC8Q",
        "outputId": "0cb84895-b684-4f4d-de2d-0fa05a153a05"
      },
      "outputs": [
        {
          "data": {
            "text/plain": [
              "SVC()"
            ]
          },
          "execution_count": 51,
          "metadata": {},
          "output_type": "execute_result"
        }
      ],
      "source": [
        "svc.fit(X_treino,Y_treino)"
      ]
    },
    {
      "cell_type": "code",
      "execution_count": null,
      "metadata": {
        "id": "HMP2eioePC8R"
      },
      "outputs": [],
      "source": [
        "Y_pred_svc = svc.predict(X_teste)"
      ]
    },
    {
      "cell_type": "code",
      "execution_count": null,
      "metadata": {
        "id": "EOOoNkCBPC8T"
      },
      "outputs": [],
      "source": [
        "cm_svc = confusion_matrix(Y_teste,Y_pred_svc)"
      ]
    },
    {
      "cell_type": "code",
      "execution_count": null,
      "metadata": {
        "id": "oLzKKA6-PC8U",
        "outputId": "abe5dfa4-5934-47fa-feb0-17e071918845"
      },
      "outputs": [
        {
          "data": {
            "text/plain": [
              "<AxesSubplot:>"
            ]
          },
          "execution_count": 54,
          "metadata": {},
          "output_type": "execute_result"
        },
        {
          "data": {
            "image/png": "[encoded data removed]",
            "text/plain": [
              "<Figure size 432x288 with 2 Axes>"
            ]
          },
          "metadata": {
            "needs_background": "light"
          },
          "output_type": "display_data"
        }
      ],
      "source": [
        "sns.heatmap(cm_svc, annot=True, fmt='g', xticklabels=labels, yticklabels=labels)"
      ]
    },
    {
      "cell_type": "code",
      "execution_count": null,
      "metadata": {
        "id": "Ls1Wv_NyPC8W"
      },
      "outputs": [],
      "source": [
        "acc_svc = accuracy_score(Y_teste,Y_pred_svc)\n",
        "precision_svc = precision_score(Y_teste,Y_pred_svc,average='macro')\n",
        "recall_svc = recall_score(Y_teste,Y_pred_svc,average='macro')\n",
        "f1_svc = f1_score(Y_teste,Y_pred_svc,average='macro')"
      ]
    },
    {
      "cell_type": "code",
      "execution_count": null,
      "metadata": {
        "id": "1j28gGFcPC8X",
        "outputId": "d0c760e0-4f15-4f98-b572-ed991106881d"
      },
      "outputs": [
        {
          "name": "stdout",
          "output_type": "stream",
          "text": [
            "Acuracia = 86.30%\n",
            "Precisão = 90.06%\n",
            "Recall = 84.18%\n",
            "F1 = 86.56%\n"
          ]
        }
      ],
      "source": [
        "print(\"Acuracia = {:0.2f}%\".format(acc_svc*100))\n",
        "print(\"Precisão = {:0.2f}%\".format(precision_svc*100))\n",
        "print(\"Recall = {:0.2f}%\".format(recall_svc*100))\n",
        "print(\"F1 = {:0.2f}%\".format(f1_svc*100))"
      ]
    },
    {
      "cell_type": "code",
      "execution_count": null,
      "metadata": {
        "id": "lfHKu3b6PC8Z"
      },
      "outputs": [],
      "source": [
        "modelos.append(\"SVC\")\n",
        "acuracia.append(acc_svc*100)\n",
        "precision.append(precision_svc*100)\n",
        "recall.append(recall_svc*100)\n",
        "f1.append(f1_svc*100)"
      ]
    },
    {
      "cell_type": "markdown",
      "metadata": {
        "id": "l7WKspjxPC8a"
      },
      "source": [
        "* Modelo 4: Árvore de Decisão"
      ]
    },
    {
      "cell_type": "code",
      "execution_count": null,
      "metadata": {
        "id": "EFyMlQNAPC8b"
      },
      "outputs": [],
      "source": [
        "from sklearn.tree import DecisionTreeClassifier"
      ]
    },
    {
      "cell_type": "code",
      "execution_count": null,
      "metadata": {
        "id": "Vs5zrh7uPC8d"
      },
      "outputs": [],
      "source": [
        "dte = DecisionTreeClassifier()"
      ]
    },
    {
      "cell_type": "code",
      "execution_count": null,
      "metadata": {
        "id": "aUP5quRsPC8e",
        "outputId": "44779c73-c03e-4713-fa37-37d469982e19"
      },
      "outputs": [
        {
          "data": {
            "text/plain": [
              "DecisionTreeClassifier()"
            ]
          },
          "execution_count": 60,
          "metadata": {},
          "output_type": "execute_result"
        }
      ],
      "source": [
        "dte.fit(X_treino,Y_treino)"
      ]
    },
    {
      "cell_type": "code",
      "execution_count": null,
      "metadata": {
        "id": "ViPaeeDcPC8f"
      },
      "outputs": [],
      "source": [
        "Y_pred_dte = dte.predict(X_teste)"
      ]
    },
    {
      "cell_type": "code",
      "execution_count": null,
      "metadata": {
        "id": "W9gLFlSjPC8g"
      },
      "outputs": [],
      "source": [
        "cm_dte = confusion_matrix(Y_teste,Y_pred_dte)"
      ]
    },
    {
      "cell_type": "code",
      "execution_count": null,
      "metadata": {
        "id": "Q-R-Owf4PC8i",
        "outputId": "f91cfa03-aeb9-4601-fc6c-391bfb02bb87"
      },
      "outputs": [
        {
          "data": {
            "text/plain": [
              "<AxesSubplot:>"
            ]
          },
          "execution_count": 63,
          "metadata": {},
          "output_type": "execute_result"
        },
        {
          "data": {
            "image/png": "[encoded data removed]",
            "text/plain": [
              "<Figure size 432x288 with 2 Axes>"
            ]
          },
          "metadata": {
            "needs_background": "light"
          },
          "output_type": "display_data"
        }
      ],
      "source": [
        "sns.heatmap(cm_dte, annot=True, fmt='g', xticklabels=labels, yticklabels=labels)"
      ]
    },
    {
      "cell_type": "code",
      "execution_count": null,
      "metadata": {
        "id": "dH2e85cYPC8j"
      },
      "outputs": [],
      "source": [
        "acc_dtc = accuracy_score(Y_teste,Y_pred_dte)\n",
        "precision_dtc = precision_score(Y_teste,Y_pred_dte,average='macro')\n",
        "recall_dtc = recall_score(Y_teste,Y_pred_dte,average='macro')\n",
        "f1_dtc = f1_score(Y_teste,Y_pred_dte,average='macro')"
      ]
    },
    {
      "cell_type": "code",
      "execution_count": null,
      "metadata": {
        "id": "FlueZCD2PC8k",
        "outputId": "3250bdb6-9fc9-4fac-8f1c-4fafc78bc7b1"
      },
      "outputs": [
        {
          "name": "stdout",
          "output_type": "stream",
          "text": [
            "Acuracia = 99.00%\n",
            "Precisão = 98.54%\n",
            "Recall = 97.70%\n",
            "F1 = 98.11%\n"
          ]
        }
      ],
      "source": [
        "print(\"Acuracia = {:0.2f}%\".format(acc_dtc*100))\n",
        "print(\"Precisão = {:0.2f}%\".format(precision_dtc*100))\n",
        "print(\"Recall = {:0.2f}%\".format(recall_dtc*100))\n",
        "print(\"F1 = {:0.2f}%\".format(f1_dtc*100))"
      ]
    },
    {
      "cell_type": "code",
      "execution_count": null,
      "metadata": {
        "id": "LD26ETq3PC8s"
      },
      "outputs": [],
      "source": [
        "modelos.append(\"Arvore Decisão\")\n",
        "acuracia.append(acc_dtc*100)\n",
        "precision.append(precision_dtc*100)\n",
        "recall.append(recall_dtc*100)\n",
        "f1.append(f1_dtc*100)"
      ]
    },
    {
      "cell_type": "code",
      "execution_count": null,
      "metadata": {
        "id": "I-RU7PTMPC8t",
        "outputId": "e3c04d30-f952-4a0f-8e92-408b460ca0da"
      },
      "outputs": [
        {
          "data": {
            "text/plain": [
              "Text(0, 0.5, 'Importância')"
            ]
          },
          "execution_count": 67,
          "metadata": {},
          "output_type": "execute_result"
        },
        {
          "data": {
            "image/png": "[encoded data removed]",
            "text/plain": [
              "<Figure size 432x288 with 1 Axes>"
            ]
          },
          "metadata": {
            "needs_background": "light"
          },
          "output_type": "display_data"
        }
      ],
      "source": [
        "coefc_dte = dte.feature_importances_\n",
        "colunas = ['u','g','r','i','z','redshift']\n",
        "plt.bar(height=coefc_dte,x=colunas)\n",
        "plt.xlabel('Variável')\n",
        "plt.ylabel('Importância')"
      ]
    },
    {
      "cell_type": "markdown",
      "metadata": {
        "id": "IrU7w3j2PC8v"
      },
      "source": [
        "* Modelo 5: Floresta aleatória"
      ]
    },
    {
      "cell_type": "code",
      "execution_count": null,
      "metadata": {
        "id": "vmuQb-RWPC8x"
      },
      "outputs": [],
      "source": [
        "from sklearn.ensemble import RandomForestClassifier"
      ]
    },
    {
      "cell_type": "code",
      "execution_count": null,
      "metadata": {
        "id": "f5kCrYo_PC8z"
      },
      "outputs": [],
      "source": [
        "rfc = RandomForestClassifier()"
      ]
    },
    {
      "cell_type": "code",
      "execution_count": null,
      "metadata": {
        "id": "35Hj0S3kPC80",
        "outputId": "8b217674-dbe7-465a-9030-2d4363805e9c"
      },
      "outputs": [
        {
          "data": {
            "text/plain": [
              "RandomForestClassifier()"
            ]
          },
          "execution_count": 70,
          "metadata": {},
          "output_type": "execute_result"
        }
      ],
      "source": [
        "rfc.fit(X_treino,Y_treino)"
      ]
    },
    {
      "cell_type": "code",
      "execution_count": null,
      "metadata": {
        "id": "q6uv7BZTPC81"
      },
      "outputs": [],
      "source": [
        "Y_pred_rfc = dte.predict(X_teste)"
      ]
    },
    {
      "cell_type": "code",
      "execution_count": null,
      "metadata": {
        "id": "ONQDcVuEPC83"
      },
      "outputs": [],
      "source": [
        "cm_rfc = confusion_matrix(Y_teste,Y_pred_rfc)"
      ]
    },
    {
      "cell_type": "code",
      "execution_count": null,
      "metadata": {
        "id": "LYgEXOd9PC84",
        "outputId": "fe67032d-93fa-4ba5-ad59-0fbcf41b23a5"
      },
      "outputs": [
        {
          "data": {
            "text/plain": [
              "<AxesSubplot:>"
            ]
          },
          "execution_count": 73,
          "metadata": {},
          "output_type": "execute_result"
        },
        {
          "data": {
            "image/png": "[encoded data removed]",
            "text/plain": [
              "<Figure size 432x288 with 2 Axes>"
            ]
          },
          "metadata": {
            "needs_background": "light"
          },
          "output_type": "display_data"
        }
      ],
      "source": [
        "sns.heatmap(cm_rfc, annot=True, fmt='g', xticklabels=labels, yticklabels=labels)"
      ]
    },
    {
      "cell_type": "code",
      "execution_count": null,
      "metadata": {
        "id": "q5ZmoRgVPC86"
      },
      "outputs": [],
      "source": [
        "acc_rfc = accuracy_score(Y_teste,Y_pred_rfc)\n",
        "precision_rfc = precision_score(Y_teste,Y_pred_rfc,average='macro')\n",
        "recall_rfc = recall_score(Y_teste,Y_pred_rfc,average='macro')\n",
        "f1_rfc = f1_score(Y_teste,Y_pred_rfc,average='macro')"
      ]
    },
    {
      "cell_type": "code",
      "execution_count": null,
      "metadata": {
        "id": "dZjKU7ziPC88",
        "outputId": "30e0f27a-ca9f-437a-c05f-72eaec9e87a5"
      },
      "outputs": [
        {
          "name": "stdout",
          "output_type": "stream",
          "text": [
            "Acuracia = 99.00%\n",
            "Precisão = 98.54%\n",
            "Recall = 97.70%\n",
            "F1 = 98.11%\n"
          ]
        }
      ],
      "source": [
        "print(\"Acuracia = {:0.2f}%\".format(acc_rfc*100))\n",
        "print(\"Precisão = {:0.2f}%\".format(precision_rfc*100))\n",
        "print(\"Recall = {:0.2f}%\".format(recall_rfc*100))\n",
        "print(\"F1 = {:0.2f}%\".format(f1_rfc*100))"
      ]
    },
    {
      "cell_type": "code",
      "execution_count": null,
      "metadata": {
        "id": "dGpSCpOmPC89"
      },
      "outputs": [],
      "source": [
        "modelos.append(\"Floresta Aleatória\")\n",
        "acuracia.append(acc_rfc*100)\n",
        "precision.append(precision_rfc*100)\n",
        "recall.append(recall_rfc*100)\n",
        "f1.append(f1_rfc*100)"
      ]
    },
    {
      "cell_type": "markdown",
      "metadata": {
        "id": "vIXdeuGqPC8-"
      },
      "source": [
        "* Modelo 6: Ada Boost"
      ]
    },
    {
      "cell_type": "code",
      "execution_count": null,
      "metadata": {
        "id": "5oWpI1brPC9A"
      },
      "outputs": [],
      "source": [
        "from sklearn.ensemble import AdaBoostClassifier"
      ]
    },
    {
      "cell_type": "code",
      "execution_count": null,
      "metadata": {
        "id": "eKFrjBKEPC9B"
      },
      "outputs": [],
      "source": [
        "ada = AdaBoostClassifier()"
      ]
    },
    {
      "cell_type": "code",
      "execution_count": null,
      "metadata": {
        "id": "xbUk67ZuPC9C",
        "outputId": "f37a3057-fa53-48b7-9779-b81e3cef719c"
      },
      "outputs": [
        {
          "data": {
            "text/plain": [
              "AdaBoostClassifier()"
            ]
          },
          "execution_count": 79,
          "metadata": {},
          "output_type": "execute_result"
        }
      ],
      "source": [
        "ada.fit(X_treino,Y_treino)"
      ]
    },
    {
      "cell_type": "code",
      "execution_count": null,
      "metadata": {
        "id": "DqtPGCocPC9E"
      },
      "outputs": [],
      "source": [
        "Y_pred_ada = ada.predict(X_teste)"
      ]
    },
    {
      "cell_type": "code",
      "execution_count": null,
      "metadata": {
        "id": "5SlCoZHhPC9G"
      },
      "outputs": [],
      "source": [
        "cm_ada = confusion_matrix(Y_teste,Y_pred_ada)"
      ]
    },
    {
      "cell_type": "code",
      "execution_count": null,
      "metadata": {
        "id": "u-DQY9vfPC9H",
        "outputId": "c0b1758c-42f5-47e6-86f0-b8e38a08b956"
      },
      "outputs": [
        {
          "data": {
            "text/plain": [
              "<AxesSubplot:>"
            ]
          },
          "execution_count": 82,
          "metadata": {},
          "output_type": "execute_result"
        },
        {
          "data": {
            "image/png": "[encoded data removed]",
            "text/plain": [
              "<Figure size 432x288 with 2 Axes>"
            ]
          },
          "metadata": {
            "needs_background": "light"
          },
          "output_type": "display_data"
        }
      ],
      "source": [
        "sns.heatmap(cm_ada, annot=True, fmt='g', xticklabels=labels, yticklabels=labels)"
      ]
    },
    {
      "cell_type": "code",
      "execution_count": null,
      "metadata": {
        "id": "WZPBB0MNPC9I"
      },
      "outputs": [],
      "source": [
        "acc_ada = accuracy_score(Y_teste,Y_pred_ada)\n",
        "precision_ada = precision_score(Y_teste,Y_pred_ada,average='macro')\n",
        "recall_ada = recall_score(Y_teste,Y_pred_ada,average='macro')\n",
        "f1_ada = f1_score(Y_teste,Y_pred_ada,average='macro')"
      ]
    },
    {
      "cell_type": "code",
      "execution_count": null,
      "metadata": {
        "id": "6RbQb7VLPC9L",
        "outputId": "f91460f7-5b02-48d9-aa57-8862f0428176"
      },
      "outputs": [
        {
          "name": "stdout",
          "output_type": "stream",
          "text": [
            "Acuracia = 86.30%\n",
            "Precisão = 59.37%\n",
            "Recall = 63.28%\n",
            "F1 = 60.85%\n"
          ]
        }
      ],
      "source": [
        "print(\"Acuracia = {:0.2f}%\".format(acc_ada*100))\n",
        "print(\"Precisão = {:0.2f}%\".format(precision_ada*100))\n",
        "print(\"Recall = {:0.2f}%\".format(recall_ada*100))\n",
        "print(\"F1 = {:0.2f}%\".format(f1_ada*100))"
      ]
    },
    {
      "cell_type": "code",
      "execution_count": null,
      "metadata": {
        "id": "A4TbNneyPC9M"
      },
      "outputs": [],
      "source": [
        "modelos.append(\"Ada Boost\")\n",
        "acuracia.append(acc_ada*100)\n",
        "precision.append(precision_ada*100)\n",
        "recall.append(recall_ada*100)\n",
        "f1.append(f1_ada*100)"
      ]
    },
    {
      "cell_type": "code",
      "execution_count": null,
      "metadata": {
        "id": "Gw-dbjTxPC9e",
        "outputId": "74dbe505-8593-4806-9e0d-1fa2b6bc7451"
      },
      "outputs": [
        {
          "data": {
            "text/plain": [
              "Text(0, 0.5, 'Importância')"
            ]
          },
          "execution_count": 86,
          "metadata": {},
          "output_type": "execute_result"
        },
        {
          "data": {
            "image/png": "[encoded data removed]",
            "text/plain": [
              "<Figure size 432x288 with 1 Axes>"
            ]
          },
          "metadata": {
            "needs_background": "light"
          },
          "output_type": "display_data"
        }
      ],
      "source": [
        "coefc_ada = ada.feature_importances_\n",
        "colunas = ['u','g','r','i','z','redshift']\n",
        "plt.bar(height=coefc_ada,x=colunas)\n",
        "plt.xlabel('Variável')\n",
        "plt.ylabel('Importância')"
      ]
    },
    {
      "cell_type": "markdown",
      "metadata": {
        "id": "bXkBTpTvPC9h"
      },
      "source": [
        "* Modelo 7: Naive-Bayes"
      ]
    },
    {
      "cell_type": "code",
      "execution_count": null,
      "metadata": {
        "id": "_Vn2h_3lPC9j"
      },
      "outputs": [],
      "source": [
        "from sklearn.naive_bayes import GaussianNB"
      ]
    },
    {
      "cell_type": "code",
      "execution_count": null,
      "metadata": {
        "id": "zjF0C_YtPC9l"
      },
      "outputs": [],
      "source": [
        "nb = GaussianNB()"
      ]
    },
    {
      "cell_type": "code",
      "execution_count": null,
      "metadata": {
        "id": "eR5AIORPPC9m",
        "outputId": "ba249d7d-bafb-44a9-e0fb-3b4ca1f5b6bd"
      },
      "outputs": [
        {
          "data": {
            "text/plain": [
              "GaussianNB()"
            ]
          },
          "execution_count": 89,
          "metadata": {},
          "output_type": "execute_result"
        }
      ],
      "source": [
        "nb.fit(X_treino,Y_treino)"
      ]
    },
    {
      "cell_type": "code",
      "execution_count": null,
      "metadata": {
        "id": "6DuDjVhZPC9o"
      },
      "outputs": [],
      "source": [
        "Y_pred_nb = nb.predict(X_teste)"
      ]
    },
    {
      "cell_type": "code",
      "execution_count": null,
      "metadata": {
        "id": "q02dedL_PC9r"
      },
      "outputs": [],
      "source": [
        "cm_nb = confusion_matrix(Y_teste,Y_pred_nb)"
      ]
    },
    {
      "cell_type": "code",
      "execution_count": null,
      "metadata": {
        "id": "YO_EJwd_PC9t",
        "outputId": "469df95c-2937-41c7-db23-3cddbe5cbeb0"
      },
      "outputs": [
        {
          "data": {
            "text/plain": [
              "<AxesSubplot:>"
            ]
          },
          "execution_count": 92,
          "metadata": {},
          "output_type": "execute_result"
        },
        {
          "data": {
            "image/png": "[encoded data removed]",
            "text/plain": [
              "<Figure size 432x288 with 2 Axes>"
            ]
          },
          "metadata": {
            "needs_background": "light"
          },
          "output_type": "display_data"
        }
      ],
      "source": [
        "sns.heatmap(cm_nb, annot=True, fmt='g', xticklabels=labels, yticklabels=labels)"
      ]
    },
    {
      "cell_type": "code",
      "execution_count": null,
      "metadata": {
        "id": "FxmcWEK8PC9u"
      },
      "outputs": [],
      "source": [
        "acc_nb = accuracy_score(Y_teste,Y_pred_nb)\n",
        "precision_nb = precision_score(Y_teste,Y_pred_nb,average='macro')\n",
        "recall_nb = recall_score(Y_teste,Y_pred_nb,average='macro')\n",
        "f1_nb = f1_score(Y_teste,Y_pred_nb,average='macro')"
      ]
    },
    {
      "cell_type": "code",
      "execution_count": null,
      "metadata": {
        "id": "jg0o664FPC9v",
        "outputId": "787d9780-7eb9-4960-ab18-50ff2a737827"
      },
      "outputs": [
        {
          "name": "stdout",
          "output_type": "stream",
          "text": [
            "Acuracia = 98.13%\n",
            "Precisão = 96.06%\n",
            "Recall = 97.37%\n",
            "F1 = 96.69%\n"
          ]
        }
      ],
      "source": [
        "print(\"Acuracia = {:0.2f}%\".format(acc_nb*100))\n",
        "print(\"Precisão = {:0.2f}%\".format(precision_nb*100))\n",
        "print(\"Recall = {:0.2f}%\".format(recall_nb*100))\n",
        "print(\"F1 = {:0.2f}%\".format(f1_nb*100))"
      ]
    },
    {
      "cell_type": "code",
      "execution_count": null,
      "metadata": {
        "id": "d5kEyIPBPC9y"
      },
      "outputs": [],
      "source": [
        "modelos.append(\"Naive-Bayes\")\n",
        "acuracia.append(acc_nb*100)\n",
        "precision.append(precision_nb*100)\n",
        "recall.append(recall_nb*100)\n",
        "f1.append(f1_nb*100)"
      ]
    },
    {
      "cell_type": "markdown",
      "metadata": {
        "id": "kYf7J4WgPC90"
      },
      "source": [
        "* Criando DataFrame com desempenho dos modelos"
      ]
    },
    {
      "cell_type": "code",
      "execution_count": null,
      "metadata": {
        "id": "aO68F2tIPC91"
      },
      "outputs": [],
      "source": [
        "dici = {\"Modelo\" : modelos, \"Acuracia\" : acuracia, \"Precisão\" : precision,\n",
        "       \"Recall\" : recall, \"F1\" : f1}"
      ]
    },
    {
      "cell_type": "code",
      "execution_count": null,
      "metadata": {
        "id": "J560OY1jPC94"
      },
      "outputs": [],
      "source": [
        "pd_dici = pd.DataFrame(dici)"
      ]
    },
    {
      "cell_type": "code",
      "execution_count": null,
      "metadata": {
        "scrolled": true,
        "id": "VGQ2afATPC95",
        "outputId": "2339b87c-57cf-48e9-f0bd-f79c2fe6e634"
      },
      "outputs": [
        {
          "data": {
            "text/html": [
              "<div>\n",
              "<style scoped>\n",
              "    .dataframe tbody tr th:only-of-type {\n",
              "        vertical-align: middle;\n",
              "    }\n",
              "\n",
              "    .dataframe tbody tr th {\n",
              "        vertical-align: top;\n",
              "    }\n",
              "\n",
              "    .dataframe thead th {\n",
              "        text-align: right;\n",
              "    }\n",
              "</style>\n",
              "<table border=\"1\" class=\"dataframe\">\n",
              "  <thead>\n",
              "    <tr style=\"text-align: right;\">\n",
              "      <th></th>\n",
              "      <th>Modelo</th>\n",
              "      <th>Acuracia</th>\n",
              "      <th>Precisão</th>\n",
              "      <th>Recall</th>\n",
              "      <th>F1</th>\n",
              "    </tr>\n",
              "  </thead>\n",
              "  <tbody>\n",
              "    <tr>\n",
              "      <th>0</th>\n",
              "      <td>Regressão Logistica</td>\n",
              "      <td>95.933333</td>\n",
              "      <td>96.353447</td>\n",
              "      <td>95.736007</td>\n",
              "      <td>96.014028</td>\n",
              "    </tr>\n",
              "    <tr>\n",
              "      <th>1</th>\n",
              "      <td>KNN</td>\n",
              "      <td>94.933333</td>\n",
              "      <td>95.706981</td>\n",
              "      <td>95.042390</td>\n",
              "      <td>95.320720</td>\n",
              "    </tr>\n",
              "    <tr>\n",
              "      <th>2</th>\n",
              "      <td>SVC</td>\n",
              "      <td>86.300000</td>\n",
              "      <td>90.059416</td>\n",
              "      <td>84.184099</td>\n",
              "      <td>86.562326</td>\n",
              "    </tr>\n",
              "    <tr>\n",
              "      <th>3</th>\n",
              "      <td>Arvore Decisão</td>\n",
              "      <td>99.000000</td>\n",
              "      <td>98.540596</td>\n",
              "      <td>97.703565</td>\n",
              "      <td>98.113362</td>\n",
              "    </tr>\n",
              "    <tr>\n",
              "      <th>4</th>\n",
              "      <td>Floresta Aleatória</td>\n",
              "      <td>99.000000</td>\n",
              "      <td>98.540596</td>\n",
              "      <td>97.703565</td>\n",
              "      <td>98.113362</td>\n",
              "    </tr>\n",
              "    <tr>\n",
              "      <th>5</th>\n",
              "      <td>Ada Boost</td>\n",
              "      <td>86.300000</td>\n",
              "      <td>59.373244</td>\n",
              "      <td>63.278808</td>\n",
              "      <td>60.850190</td>\n",
              "    </tr>\n",
              "    <tr>\n",
              "      <th>6</th>\n",
              "      <td>Naive-Bayes</td>\n",
              "      <td>98.133333</td>\n",
              "      <td>96.064951</td>\n",
              "      <td>97.366496</td>\n",
              "      <td>96.692286</td>\n",
              "    </tr>\n",
              "  </tbody>\n",
              "</table>\n",
              "</div>"
            ],
            "text/plain": [
              "                Modelo   Acuracia   Precisão     Recall         F1\n",
              "0  Regressão Logistica  95.933333  96.353447  95.736007  96.014028\n",
              "1                  KNN  94.933333  95.706981  95.042390  95.320720\n",
              "2                  SVC  86.300000  90.059416  84.184099  86.562326\n",
              "3       Arvore Decisão  99.000000  98.540596  97.703565  98.113362\n",
              "4   Floresta Aleatória  99.000000  98.540596  97.703565  98.113362\n",
              "5            Ada Boost  86.300000  59.373244  63.278808  60.850190\n",
              "6          Naive-Bayes  98.133333  96.064951  97.366496  96.692286"
            ]
          },
          "execution_count": 98,
          "metadata": {},
          "output_type": "execute_result"
        }
      ],
      "source": [
        "pd_dici"
      ]
    },
    {
      "cell_type": "markdown",
      "metadata": {
        "id": "mdEzAo8IPC98"
      },
      "source": [
        "* Ordenando em ordem crescente usando Recall"
      ]
    },
    {
      "cell_type": "code",
      "execution_count": null,
      "metadata": {
        "id": "usc2BTprPC9-"
      },
      "outputs": [],
      "source": [
        "pd_dici = pd_dici.sort_values('Recall',ascending=False)"
      ]
    },
    {
      "cell_type": "code",
      "execution_count": null,
      "metadata": {
        "id": "JrHDFaHXPC9_",
        "outputId": "12ebf711-4493-4eb4-bff3-3f27e5056ec3"
      },
      "outputs": [
        {
          "data": {
            "text/html": [
              "<div>\n",
              "<style scoped>\n",
              "    .dataframe tbody tr th:only-of-type {\n",
              "        vertical-align: middle;\n",
              "    }\n",
              "\n",
              "    .dataframe tbody tr th {\n",
              "        vertical-align: top;\n",
              "    }\n",
              "\n",
              "    .dataframe thead th {\n",
              "        text-align: right;\n",
              "    }\n",
              "</style>\n",
              "<table border=\"1\" class=\"dataframe\">\n",
              "  <thead>\n",
              "    <tr style=\"text-align: right;\">\n",
              "      <th></th>\n",
              "      <th>Modelo</th>\n",
              "      <th>Acuracia</th>\n",
              "      <th>Precisão</th>\n",
              "      <th>Recall</th>\n",
              "      <th>F1</th>\n",
              "    </tr>\n",
              "  </thead>\n",
              "  <tbody>\n",
              "    <tr>\n",
              "      <th>3</th>\n",
              "      <td>Arvore Decisão</td>\n",
              "      <td>99.000000</td>\n",
              "      <td>98.540596</td>\n",
              "      <td>97.703565</td>\n",
              "      <td>98.113362</td>\n",
              "    </tr>\n",
              "    <tr>\n",
              "      <th>4</th>\n",
              "      <td>Floresta Aleatória</td>\n",
              "      <td>99.000000</td>\n",
              "      <td>98.540596</td>\n",
              "      <td>97.703565</td>\n",
              "      <td>98.113362</td>\n",
              "    </tr>\n",
              "    <tr>\n",
              "      <th>6</th>\n",
              "      <td>Naive-Bayes</td>\n",
              "      <td>98.133333</td>\n",
              "      <td>96.064951</td>\n",
              "      <td>97.366496</td>\n",
              "      <td>96.692286</td>\n",
              "    </tr>\n",
              "    <tr>\n",
              "      <th>0</th>\n",
              "      <td>Regressão Logistica</td>\n",
              "      <td>95.933333</td>\n",
              "      <td>96.353447</td>\n",
              "      <td>95.736007</td>\n",
              "      <td>96.014028</td>\n",
              "    </tr>\n",
              "    <tr>\n",
              "      <th>1</th>\n",
              "      <td>KNN</td>\n",
              "      <td>94.933333</td>\n",
              "      <td>95.706981</td>\n",
              "      <td>95.042390</td>\n",
              "      <td>95.320720</td>\n",
              "    </tr>\n",
              "    <tr>\n",
              "      <th>2</th>\n",
              "      <td>SVC</td>\n",
              "      <td>86.300000</td>\n",
              "      <td>90.059416</td>\n",
              "      <td>84.184099</td>\n",
              "      <td>86.562326</td>\n",
              "    </tr>\n",
              "    <tr>\n",
              "      <th>5</th>\n",
              "      <td>Ada Boost</td>\n",
              "      <td>86.300000</td>\n",
              "      <td>59.373244</td>\n",
              "      <td>63.278808</td>\n",
              "      <td>60.850190</td>\n",
              "    </tr>\n",
              "  </tbody>\n",
              "</table>\n",
              "</div>"
            ],
            "text/plain": [
              "                Modelo   Acuracia   Precisão     Recall         F1\n",
              "3       Arvore Decisão  99.000000  98.540596  97.703565  98.113362\n",
              "4   Floresta Aleatória  99.000000  98.540596  97.703565  98.113362\n",
              "6          Naive-Bayes  98.133333  96.064951  97.366496  96.692286\n",
              "0  Regressão Logistica  95.933333  96.353447  95.736007  96.014028\n",
              "1                  KNN  94.933333  95.706981  95.042390  95.320720\n",
              "2                  SVC  86.300000  90.059416  84.184099  86.562326\n",
              "5            Ada Boost  86.300000  59.373244  63.278808  60.850190"
            ]
          },
          "execution_count": 100,
          "metadata": {},
          "output_type": "execute_result"
        }
      ],
      "source": [
        "pd_dici"
      ]
    },
    {
      "cell_type": "markdown",
      "metadata": {
        "id": "h4LmKBpmPC-l"
      },
      "source": [
        "* Árvore de decisão e floresta aleatória apresentaram o mesmo desempenho"
      ]
    }
  ],
  "metadata": {
    "kernelspec": {
      "display_name": "Python 3",
      "language": "python",
      "name": "python3"
    },
    "language_info": {
      "codemirror_mode": {
        "name": "ipython",
        "version": 3
      },
      "file_extension": ".py",
      "mimetype": "text/x-python",
      "name": "python",
      "nbconvert_exporter": "python",
      "pygments_lexer": "ipython3",
      "version": "3.8.5"
    },
    "colab": {
      "name": "Sloan_DR14_Luciano.ipynb",
      "provenance": [],
      "include_colab_link": true
    }
  },
  "nbformat": 4,
  "nbformat_minor": 0
}